{
 "cells": [
  {
   "cell_type": "code",
   "execution_count": null,
   "metadata": {},
   "outputs": [],
   "source": [
    "import cv2\n",
    "import numpy as np\n",
    "\n",
    "def translate_image(image, dx, dy):\n",
    "    rows, cols = image.shape[:2]\n",
    "    translation_matrix = np.float32([[1, 0, dx], [0, 1, dy]])\n",
    "    translated_image = cv2.warpAffine(image, translation_matrix, (cols, rows))\n",
    "    return translated_image\n",
    "\n",
    "# Read the image\n",
    "image = cv2.imread('rabbit.png')\n",
    "\n",
    "# Get image dimensions\n",
    "height, width = image.shape[:2]\n",
    "\n",
    "# Calculate the center coordinates of the image\n",
    "center = (width // 2, height // 2)\n",
    "rotation_value = int(input(\"Enter the degree of Rotation:\"))\n",
    "scaling_value = int(input(\"Enter the zooming factor:\"))\n",
    "# Create the 2D rotation matrix\n",
    "rotated = cv2.getRotationMatrix2D(center=center, angle=rotation_value, scale=1)\n",
    "rotated_image = cv2.warpAffine(src=image, M=rotated, dsize=(width, height))\n",
    "scaled = cv2.getRotationMatrix2D(center=center, angle=0, scale=scaling_value)\n",
    "scaled_image = cv2.warpAffine(src=rotated_image, M=scaled, dsize=(width, height))\n",
    "h = int(input(\"How many pixels you want the image to be translated horizontally? \"))\n",
    "v = int(input(\"How many pixels you want the image to be translated vertically? \"))\n",
    "translated_image = translate_image(scaled_image, dx=h, dy=v)\n",
    "cv2.imwrite('Final_image.png', translated_image)"
   ]
  }
 ],
 "metadata": {
  "kernelspec": {
   "display_name": "Python 3",
   "language": "python",
   "name": "python3"
  },
  "language_info": {
   "codemirror_mode": {
    "name": "ipython",
    "version": 3
   },
   "file_extension": ".py",
   "mimetype": "text/x-python",
   "name": "python",
   "nbconvert_exporter": "python",
   "pygments_lexer": "ipython3",
   "version": "3.10.8"
  }
 },
 "nbformat": 4,
 "nbformat_minor": 2
}
